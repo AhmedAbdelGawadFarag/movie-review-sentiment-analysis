{
 "cells": [
  {
   "cell_type": "code",
   "execution_count": 1,
   "metadata": {},
   "outputs": [],
   "source": [
    "import nltk\n",
    "import os\n",
    "from nltk.tokenize import word_tokenize\n",
    "from nltk.tag import pos_tag\n",
    "from nltk.stem.wordnet import WordNetLemmatizer\n",
    "from nltk.stem import PorterStemmer\n",
    "import re, string\n",
    "from nltk.corpus import stopwords\n",
    "from sklearn.feature_extraction.text import CountVectorizer\n",
    "import pandas as pd\n",
    "import numpy as np\n",
    "from sklearn.model_selection import train_test_split\n",
    "from sklearn.feature_extraction.text import TfidfVectorizer\n",
    "from sklearn.naive_bayes import MultinomialNB\n",
    "from sklearn import metrics\n",
    "from sklearn.metrics import confusion_matrix\n",
    "from sklearn.metrics import ConfusionMatrixDisplay\n",
    "from sklearn.feature_extraction.text import CountVectorizer\n",
    "import matplotlib.pyplot as plt\n",
    "\n",
    "#"
   ]
  },
  {
   "cell_type": "code",
   "execution_count": 2,
   "metadata": {},
   "outputs": [
    {
     "name": "stderr",
     "output_type": "stream",
     "text": [
      "[nltk_data] Downloading package punkt to /home/ahmed/nltk_data...\n",
      "[nltk_data]   Package punkt is already up-to-date!\n",
      "[nltk_data] Downloading package wordnet to /home/ahmed/nltk_data...\n",
      "[nltk_data]   Package wordnet is already up-to-date!\n",
      "[nltk_data] Downloading package averaged_perceptron_tagger to\n",
      "[nltk_data]     /home/ahmed/nltk_data...\n",
      "[nltk_data]   Package averaged_perceptron_tagger is already up-to-\n",
      "[nltk_data]       date!\n",
      "[nltk_data] Downloading package stopwords to /home/ahmed/nltk_data...\n",
      "[nltk_data]   Package stopwords is already up-to-date!\n",
      "[nltk_data] Downloading package omw-1.4 to /home/ahmed/nltk_data...\n",
      "[nltk_data]   Package omw-1.4 is already up-to-date!\n"
     ]
    },
    {
     "data": {
      "text/plain": [
       "True"
      ]
     },
     "execution_count": 2,
     "metadata": {},
     "output_type": "execute_result"
    }
   ],
   "source": [
    "nltk.download([\n",
    "'punkt',\n",
    "'wordnet',\n",
    "'averaged_perceptron_tagger',\n",
    "'stopwords',\n",
    "'omw-1.4'\n",
    "])"
   ]
  },
  {
   "cell_type": "code",
   "execution_count": 3,
   "metadata": {},
   "outputs": [],
   "source": [
    "def get_tokens(list):#list of reviews\n",
    "    tokens = []\n",
    "    for review in list:\n",
    "        tokens.append(word_tokenize(review))\n",
    "    return tokens"
   ]
  },
  {
   "cell_type": "code",
   "execution_count": 4,
   "metadata": {},
   "outputs": [],
   "source": [
    "def remove_stop_words(tokens):# list of tokens\n",
    "    new_list = []\n",
    "    stop_words = set(stopwords.words('english'))\n",
    "    for w in tokens:\n",
    "        if w not in stop_words:\n",
    "            new_list.append(w)\n",
    "    \n",
    "    return new_list"
   ]
  },
  {
   "cell_type": "code",
   "execution_count": 5,
   "metadata": {},
   "outputs": [],
   "source": [
    "\n",
    "def remove_noise(tokens):\n",
    "\n",
    "    cleaned_tokens = []\n",
    "    for token, tag in pos_tag(tokens):\n",
    "            \n",
    "        if tag.startswith(\"NN\"):\n",
    "            pos = 'n'\n",
    "        elif tag.startswith('VB'):\n",
    "            pos = 'v'\n",
    "        else:\n",
    "            pos = 'a'\n",
    "\n",
    "        lemmatizer = WordNetLemmatizer()\n",
    "        token = lemmatizer.lemmatize(token, pos)\n",
    "\n",
    "        if token not in string.punctuation and token.isalpha():\n",
    "            cleaned_tokens.append(token)\n",
    "\n",
    "    return cleaned_tokens"
   ]
  },
  {
   "cell_type": "code",
   "execution_count": 6,
   "metadata": {},
   "outputs": [],
   "source": [
    "def join_tokens(tokens):\n",
    "    return ' '.join(tokens)"
   ]
  },
  {
   "cell_type": "code",
   "execution_count": 7,
   "metadata": {},
   "outputs": [],
   "source": [
    "def pre_processing(lst):# lst of reviews\n",
    "    new_lst = []\n",
    "\n",
    "    new_lst = get_tokens(lst)\n",
    "\n",
    "    new_lst = [remove_noise(tokens) for tokens in new_lst]\n",
    "\n",
    "    new_lst = [remove_stop_words(tokens) for tokens in new_lst]\n",
    "\n",
    "    new_lst = [join_tokens(tokens) for tokens in new_lst]\n",
    "\n",
    "    return new_lst\n"
   ]
  },
  {
   "cell_type": "code",
   "execution_count": 8,
   "metadata": {},
   "outputs": [
    {
     "name": "stdout",
     "output_type": "stream",
     "text": [
      "1000\n",
      "1000\n"
     ]
    }
   ],
   "source": [
    "# read data from files\n",
    "positive_reviews = []\n",
    "negative_reviews = []\n",
    "\n",
    "for path in os.scandir('./data/pos'):\n",
    "    if path.is_file():\n",
    "        f = open(path,'r')\n",
    "        positive_reviews.append(f.read().lower())\n",
    "\n",
    "\n",
    "for path in os.scandir('./data/neg'):\n",
    "    if path.is_file():\n",
    "        f = open(path,'r')\n",
    "        negative_reviews.append(f.read().lower())\n",
    "\n",
    "print(len(positive_reviews))\n",
    "print(len(negative_reviews))"
   ]
  },
  {
   "cell_type": "code",
   "execution_count": 9,
   "metadata": {},
   "outputs": [],
   "source": [
    "\n",
    "positive_tokens = pre_processing(positive_reviews)\n",
    "negative_tokens = pre_processing(negative_reviews)\n"
   ]
  },
  {
   "cell_type": "code",
   "execution_count": 10,
   "metadata": {},
   "outputs": [
    {
     "name": "stdout",
     "output_type": "stream",
     "text": [
      "                                                reviews  sentiment\n",
      "0     film come see year think chase amy many moment...          0\n",
      "1     john carpenter direct stylish gory vampire fli...          0\n",
      "2     film adapt comic book plenty success whether s...          0\n",
      "3     every movie come along suspect studio every in...          0\n",
      "4     get mail work alot good deserve order make fil...          0\n",
      "...                                                 ...        ...\n",
      "1995  anything stigmata take warning release film re...          1\n",
      "1996  john boorman zardoz goofy cinematic debacle fu...          1\n",
      "1997  kid hall acquired taste take least season watc...          1\n",
      "1998  time john carpenter great horror director cour...          1\n",
      "1999  two party guy bob head haddaway dance hit love...          1\n",
      "\n",
      "[2000 rows x 2 columns]\n"
     ]
    }
   ],
   "source": [
    "data = pd.DataFrame()\n",
    "data['reviews'] = positive_tokens + negative_tokens\n",
    "\n",
    "zeros = np.zeros(len(positive_tokens),dtype=int) \n",
    "ones = np.ones(len(negative_tokens),dtype=int)\n",
    "\n",
    "data['sentiment'] = np.append(zeros,ones)\n",
    "print(data)"
   ]
  },
  {
   "cell_type": "code",
   "execution_count": 11,
   "metadata": {},
   "outputs": [
    {
     "name": "stdout",
     "output_type": "stream",
     "text": [
      "Bag of Words Accuracy: 0.8016666666666666\n"
     ]
    }
   ],
   "source": [
    "#feature extraction using Bag of Words\n",
    "cv = CountVectorizer(lowercase=True,stop_words='english',ngram_range = (1,1))\n",
    "text_counts= cv.fit_transform(data['reviews'])\n",
    "\n",
    "\n",
    "X_train, X_test, y_train, y_test = train_test_split(\n",
    "    text_counts, data['sentiment'], test_size=0.3, shuffle=True)\n",
    "\n",
    "clf = MultinomialNB().fit(X_train, y_train)\n",
    "predicted= clf.predict(X_test)\n",
    "\n",
    "BOW_ACCS = metrics.accuracy_score(y_test, predicted)\n",
    "\n",
    "print(\"Bag of Words Accuracy:\",BOW_ACCS)\n",
    "\n"
   ]
  },
  {
   "cell_type": "code",
   "execution_count": 12,
   "metadata": {},
   "outputs": [
    {
     "data": {
      "text/plain": [
       "<sklearn.metrics._plot.confusion_matrix.ConfusionMatrixDisplay at 0x7f27d7062908>"
      ]
     },
     "execution_count": 12,
     "metadata": {},
     "output_type": "execute_result"
    },
    {
     "data": {
      "image/png": "[encoded data removed]",
      "text/plain": [
       "<Figure size 432x288 with 2 Axes>"
      ]
     },
     "metadata": {
      "needs_background": "light"
     },
     "output_type": "display_data"
    }
   ],
   "source": [
    "# drawing Bag of Word confussion matrix\n",
    "conf_matrix = confusion_matrix(y_test,predicted)\n",
    "\n",
    "disp = ConfusionMatrixDisplay(confusion_matrix=conf_matrix,\n",
    "                               display_labels=['positive review','negative review'])\n",
    "\n",
    "disp.plot()"
   ]
  },
  {
   "cell_type": "code",
   "execution_count": 13,
   "metadata": {},
   "outputs": [
    {
     "name": "stdout",
     "output_type": "stream",
     "text": [
      "TF-IDF Accuracy: 0.8233333333333334\n"
     ]
    }
   ],
   "source": [
    "#feature extraction using tf-idf\n",
    "\n",
    "tf = TfidfVectorizer(analyzer='word', token_pattern=r'\\w{1,}', max_features=5000)\n",
    "\n",
    "text_tf= tf.fit_transform(data['reviews'])\n",
    "\n",
    "X_train, X_test, y_train, y_test = train_test_split(\n",
    "    text_tf, data['sentiment'], test_size=0.3,shuffle=True)\n",
    "\n",
    "\n",
    "clf = MultinomialNB().fit(X_train, y_train)\n",
    "predicted= clf.predict(X_test)\n",
    "\n",
    "TFIDF_ACCS = metrics.accuracy_score(y_test, predicted)\n",
    "\n",
    "print(\"TF-IDF Accuracy:\",TFIDF_ACCS)\n",
    "\n"
   ]
  },
  {
   "cell_type": "code",
   "execution_count": 14,
   "metadata": {},
   "outputs": [
    {
     "data": {
      "text/plain": [
       "<sklearn.metrics._plot.confusion_matrix.ConfusionMatrixDisplay at 0x7f27d7062208>"
      ]
     },
     "execution_count": 14,
     "metadata": {},
     "output_type": "execute_result"
    },
    {
     "data": {
      "image/png": "[encoded data removed]",
      "text/plain": [
       "<Figure size 432x288 with 2 Axes>"
      ]
     },
     "metadata": {
      "needs_background": "light"
     },
     "output_type": "display_data"
    }
   ],
   "source": [
    "# drawing tf-idf confusion matrix\n",
    "\n",
    "conf_matrix = confusion_matrix(y_test,predicted)\n",
    "\n",
    "disp = ConfusionMatrixDisplay(confusion_matrix=conf_matrix,\n",
    "                               display_labels=['positive review','negative review'])\n",
    "\n",
    "disp.plot()"
   ]
  },
  {
   "cell_type": "code",
   "execution_count": 15,
   "metadata": {},
   "outputs": [
    {
     "name": "stdout",
     "output_type": "stream",
     "text": [
      "Bag of Words Accuracy: 0.7483333333333333\n"
     ]
    }
   ],
   "source": [
    "# feature extraction using 2 ngram\n",
    "cv = CountVectorizer(lowercase=True,stop_words='english',ngram_range = (2,2))\n",
    "text_counts= cv.fit_transform(data['reviews'])\n",
    "\n",
    "X_train, X_test, y_train, y_test = train_test_split(\n",
    "    text_counts, data['sentiment'], test_size=0.3, shuffle=True)\n",
    "\n",
    "clf = MultinomialNB().fit(X_train, y_train)\n",
    "predicted= clf.predict(X_test)\n",
    "\n",
    "TWO_GRAM_ACCS = metrics.accuracy_score(y_test, predicted)\n",
    "\n",
    "print(\"Bag of Words Accuracy:\",TWO_GRAM_ACCS)"
   ]
  },
  {
   "cell_type": "code",
   "execution_count": 16,
   "metadata": {},
   "outputs": [
    {
     "data": {
      "text/plain": [
       "<sklearn.metrics._plot.confusion_matrix.ConfusionMatrixDisplay at 0x7f27d4e8bda0>"
      ]
     },
     "execution_count": 16,
     "metadata": {},
     "output_type": "execute_result"
    },
    {
     "data": {
      "image/png": "[encoded data removed]",
      "text/plain": [
       "<Figure size 432x288 with 2 Axes>"
      ]
     },
     "metadata": {
      "needs_background": "light"
     },
     "output_type": "display_data"
    }
   ],
   "source": [
    "conf_matrix = confusion_matrix(y_test,predicted)\n",
    "\n",
    "disp = ConfusionMatrixDisplay(confusion_matrix=conf_matrix,\n",
    "                               display_labels=['positive review','negative review'])\n",
    "\n",
    "disp.plot()"
   ]
  },
  {
   "cell_type": "code",
   "execution_count": 17,
   "metadata": {},
   "outputs": [
    {
     "data": {
      "image/png": "[encoded data removed]",
      "text/plain": [
       "<Figure size 432x288 with 1 Axes>"
      ]
     },
     "metadata": {
      "needs_background": "light"
     },
     "output_type": "display_data"
    },
    {
     "name": "stdout",
     "output_type": "stream",
     "text": [
      "['2-grams', 'BagOfWords', 'Tf-idf']\n",
      "[0.7483333333333333, 0.8016666666666666, 0.8233333333333334]\n"
     ]
    }
   ],
   "source": [
    "fig =  plt.figure()\n",
    "ax = fig.add_axes([0,0,1,1])\n",
    "\n",
    "plt.title('Comparing accuracy of each model')\n",
    "\n",
    "models_labels = ['2-grams','BagOfWords','Tf-idf']\n",
    "models_accs = [TWO_GRAM_ACCS,BOW_ACCS,TFIDF_ACCS]\n",
    "\n",
    "ax.bar(models_labels,models_accs)\n",
    "plt.show()\n",
    "\n",
    "print(models_labels)\n",
    "print(models_accs)\n"
   ]
  }
 ],
 "metadata": {
  "interpreter": {
   "hash": "c7bdb860da4d2148fc4261a2c0098754a86515641924a72ee06df4b7a006b4bb"
  },
  "kernelspec": {
   "display_name": "Python 3.6.13 ('GpEnv')",
   "language": "python",
   "name": "python3"
  },
  "language_info": {
   "codemirror_mode": {
    "name": "ipython",
    "version": 3
   },
   "file_extension": ".py",
   "mimetype": "text/x-python",
   "name": "python",
   "nbconvert_exporter": "python",
   "pygments_lexer": "ipython3",
   "version": "3.6.13"
  }
 },
 "nbformat": 4,
 "nbformat_minor": 2
}
